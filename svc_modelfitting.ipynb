{
 "cells": [
  {
   "cell_type": "markdown",
   "metadata": {
    "collapsed": false
   },
   "source": [
    "# Training inputs obtained by extracting features from vehicle and non vehicle images and trained using SVC model\n",
    "\n",
    "* Trained model is saved for easy access"
   ]
  },
  {
   "cell_type": "code",
   "execution_count": null,
   "metadata": {
    "collapsed": true
   },
   "outputs": [],
   "source": [
    "import glob\n",
    "import pickle\n",
    "from train import *\n"
   ]
  },
  {
   "cell_type": "code",
   "execution_count": 2,
   "metadata": {
    "collapsed": false
   },
   "outputs": [
    {
     "name": "stdout",
     "output_type": "stream",
     "text": [
      "Total no. of car images: 8792\n",
      "Total no. of not car images: 8968\n"
     ]
    }
   ],
   "source": [
    "# Read in and make a list of car images from vehicle dataset\n",
    "cars = glob.glob('vehicles/vehicles/*/*.png')\n",
    "\n",
    "# Read in and make a list of not car images from non-vehicle dataset\n",
    "notcars = glob.glob('non-vehicles/non-vehicles/*/*.png')\n",
    "\n",
    "imagename_list = [cars, notcars]\n",
    "\n",
    "cars_list = imagename_list[0]\n",
    "notcars_list = imagename_list[1]\n",
    "\n",
    "print('Total no. of car images:',len(cars_list))\n",
    "print('Total no. of not car images:',len(notcars_list))"
   ]
  },
  {
   "cell_type": "markdown",
   "metadata": {},
   "source": [
    "### Extract features from vehicle and non vehicle images for training input"
   ]
  },
  {
   "cell_type": "code",
   "execution_count": 4,
   "metadata": {
    "collapsed": false
   },
   "outputs": [
    {
     "name": "stdout",
     "output_type": "stream",
     "text": [
      "116.83015155792236 seconds to compute features\n"
     ]
    }
   ],
   "source": [
    "car_features, notcar_features, parameters = features_extract(imagename_list)"
   ]
  },
  {
   "cell_type": "markdown",
   "metadata": {},
   "source": [
    "### Train with SVC model"
   ]
  },
  {
   "cell_type": "code",
   "execution_count": 5,
   "metadata": {
    "collapsed": false
   },
   "outputs": [
    {
     "name": "stdout",
     "output_type": "stream",
     "text": [
      "15.5 seconds to train SVC\n",
      "test accuracy of SVC 0.9875\n",
      "Saving data to pickle file...\n"
     ]
    }
   ],
   "source": [
    "svc,X_scaler,parameters = train(car_features,notcar_features,parameters)\n",
    "\n",
    "# Save the model for easy access\n",
    "print('Saving data to pickle file...')\n",
    "\n",
    "model_pickle = {}\n",
    "model_pickle['svc'] = svc\n",
    "model_pickle['scaler'] = X_scaler\n",
    "model_pickle['parameters'] = parameters\n",
    "pickle.dump( model_pickle, open( \"svc_pickle_allsamples.p\", \"wb\" ) )"
   ]
  },
  {
   "cell_type": "code",
   "execution_count": null,
   "metadata": {
    "collapsed": true
   },
   "outputs": [],
   "source": []
  }
 ],
 "metadata": {
  "anaconda-cloud": {},
  "kernelspec": {
   "display_name": "Python [default]",
   "language": "python",
   "name": "python3"
  },
  "language_info": {
   "codemirror_mode": {
    "name": "ipython",
    "version": 3
   },
   "file_extension": ".py",
   "mimetype": "text/x-python",
   "name": "python",
   "nbconvert_exporter": "python",
   "pygments_lexer": "ipython3",
   "version": "3.5.2"
  }
 },
 "nbformat": 4,
 "nbformat_minor": 1
}
